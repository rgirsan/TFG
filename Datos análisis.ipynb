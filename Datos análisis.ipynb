{
 "cells": [
  {
   "cell_type": "code",
   "execution_count": 1,
   "id": "90c396ce",
   "metadata": {},
   "outputs": [],
   "source": [
    "import pandas as pd\n",
    "import warnings"
   ]
  },
  {
   "cell_type": "code",
   "execution_count": 2,
   "id": "b148d2cb",
   "metadata": {},
   "outputs": [],
   "source": [
    "# Para ignorar todos los warnings\n",
    "warnings.filterwarnings(\"ignore\")"
   ]
  },
  {
   "cell_type": "markdown",
   "id": "3d55563c",
   "metadata": {},
   "source": [
    "Este notebook se centra la preparación de los datos para los distintos análisis.  \n",
    "Primero nos quedaremos con las filas (en ambos datasets) cuyos identificadores de paciente coinciden. Estas son las observaciones que trataremos en nuestro estdio. Además, la base de datos clínica cuenta con algunos datos faltantes, los cuales vamos a imputar. "
   ]
  },
  {
   "cell_type": "code",
   "execution_count": 3,
   "id": "800ab39f",
   "metadata": {},
   "outputs": [],
   "source": [
    "# Leer el DataFrame de datos radiómicos \n",
    "radiomicas = pd.read_excel('C:\\\\Users\\\\raque\\\\OneDrive\\\\Documents\\\\TFG\\\\Datos\\\\radiomicas.xlsx')\n",
    "\n",
    "# Leer el DataFrame de datos clínicos\n",
    "clinicas = pd.read_excel('C:\\\\Users\\\\raque\\\\OneDrive\\\\Documents\\\\TFG\\\\Datos\\\\clinicas_faltantes.xlsx')"
   ]
  },
  {
   "cell_type": "markdown",
   "id": "99feed9b",
   "metadata": {},
   "source": [
    "## Selección de observaciones"
   ]
  },
  {
   "cell_type": "code",
   "execution_count": 4,
   "id": "16775c9d",
   "metadata": {},
   "outputs": [],
   "source": [
    "radiomicas_filtradas = radiomicas[radiomicas['patient_id'].isin(clinicas['patient_id'])]\n",
    "clinicas_filtradas = clinicas[clinicas['patient_id'].isin(radiomicas['patient_id'])]"
   ]
  },
  {
   "cell_type": "code",
   "execution_count": 5,
   "id": "5ccc4413",
   "metadata": {},
   "outputs": [
    {
     "name": "stdout",
     "output_type": "stream",
     "text": [
      "(323, 111)\n",
      "(323, 11)\n"
     ]
    }
   ],
   "source": [
    "print(radiomicas_filtradas.shape)\n",
    "print(clinicas_filtradas.shape)"
   ]
  },
  {
   "cell_type": "markdown",
   "id": "2d6bb2e8",
   "metadata": {},
   "source": [
    "## Imputación de valores faltantes"
   ]
  },
  {
   "cell_type": "markdown",
   "id": "18915237",
   "metadata": {},
   "source": [
    "A continuación, vamos a estudiar los valores faltantes e imputarlo."
   ]
  },
  {
   "cell_type": "code",
   "execution_count": 6,
   "id": "1bb5dcca",
   "metadata": {},
   "outputs": [
    {
     "name": "stdout",
     "output_type": "stream",
     "text": [
      "<class 'pandas.core.frame.DataFrame'>\n",
      "Int64Index: 323 entries, 0 to 4628\n",
      "Data columns (total 11 columns):\n",
      " #   Column                Non-Null Count  Dtype  \n",
      "---  ------                --------------  -----  \n",
      " 0   patient_id            323 non-null    object \n",
      " 1   age                   323 non-null    int64  \n",
      " 2   psas_0_total          307 non-null    float64\n",
      " 3   lesions_0_pi_rads     316 non-null    float64\n",
      " 4   lesions_0_gleason1.1  314 non-null    float64\n",
      " 5   lesions_0_gleason2.1  314 non-null    float64\n",
      " 6   ISUP                  314 non-null    float64\n",
      " 7   TZ                    323 non-null    bool   \n",
      " 8   PZ                    323 non-null    bool   \n",
      " 9   CZ                    323 non-null    bool   \n",
      " 10  AS                    323 non-null    bool   \n",
      "dtypes: bool(4), float64(5), int64(1), object(1)\n",
      "memory usage: 21.4+ KB\n"
     ]
    }
   ],
   "source": [
    "clinicas_filtradas.info()"
   ]
  },
  {
   "cell_type": "code",
   "execution_count": 7,
   "id": "4066402b",
   "metadata": {},
   "outputs": [
    {
     "data": {
      "text/plain": [
       "patient_id               0\n",
       "age                      0\n",
       "psas_0_total            16\n",
       "lesions_0_pi_rads        7\n",
       "lesions_0_gleason1.1     9\n",
       "lesions_0_gleason2.1     9\n",
       "ISUP                     9\n",
       "TZ                       0\n",
       "PZ                       0\n",
       "CZ                       0\n",
       "AS                       0\n",
       "dtype: int64"
      ]
     },
     "execution_count": 7,
     "metadata": {},
     "output_type": "execute_result"
    }
   ],
   "source": [
    "nan_counts = clinicas_filtradas.isna().sum()\n",
    "nan_counts"
   ]
  },
  {
   "cell_type": "markdown",
   "id": "41a6b7cb",
   "metadata": {},
   "source": [
    "Calculamos la media de las variables numéricas para imputar los faltantes por ese valor. Sin embargo, dado que las últimas cuatro variables `lesions_0_pi_rads`, `lesions_0_gleason1.1`, `lesions_0_gleason2.1`, e `ISUP` son probabilidades, se han de redondear esas medias para que sean enteros."
   ]
  },
  {
   "cell_type": "code",
   "execution_count": 8,
   "id": "eb1da624",
   "metadata": {},
   "outputs": [
    {
     "data": {
      "text/plain": [
       "age                     65.139319\n",
       "psas_0_total            11.269524\n",
       "lesions_0_pi_rads        4.000000\n",
       "lesions_0_gleason1.1     3.000000\n",
       "lesions_0_gleason2.1     4.000000\n",
       "ISUP                     2.000000\n",
       "dtype: float64"
      ]
     },
     "execution_count": 8,
     "metadata": {},
     "output_type": "execute_result"
    }
   ],
   "source": [
    "mean= clinicas_filtradas.iloc[:, 1:7].mean()\n",
    "mean.loc[2:] = mean.iloc[2:].round()\n",
    "mean"
   ]
  },
  {
   "cell_type": "code",
   "execution_count": 9,
   "id": "d7354f79",
   "metadata": {},
   "outputs": [],
   "source": [
    "clinicas_filtradas= clinicas_filtradas.fillna(mean)"
   ]
  },
  {
   "cell_type": "code",
   "execution_count": 10,
   "id": "2bf8b18b",
   "metadata": {},
   "outputs": [
    {
     "data": {
      "text/plain": [
       "patient_id              0\n",
       "age                     0\n",
       "psas_0_total            0\n",
       "lesions_0_pi_rads       0\n",
       "lesions_0_gleason1.1    0\n",
       "lesions_0_gleason2.1    0\n",
       "ISUP                    0\n",
       "TZ                      0\n",
       "PZ                      0\n",
       "CZ                      0\n",
       "AS                      0\n",
       "dtype: int64"
      ]
     },
     "execution_count": 10,
     "metadata": {},
     "output_type": "execute_result"
    }
   ],
   "source": [
    "nan_cts = clinicas_filtradas.isna().sum()\n",
    "nan_cts"
   ]
  },
  {
   "cell_type": "code",
   "execution_count": 11,
   "id": "f753bb98",
   "metadata": {},
   "outputs": [],
   "source": [
    "# Convertir las variables a enteros\n",
    "clinicas_filtradas[['lesions_0_pi_rads', 'lesions_0_gleason1.1', 'lesions_0_gleason2.1', 'ISUP']] = clinicas_filtradas[['lesions_0_pi_rads', 'lesions_0_gleason1.1', 'lesions_0_gleason2.1', 'ISUP']].astype(int)"
   ]
  },
  {
   "cell_type": "code",
   "execution_count": 12,
   "id": "dd9b4690",
   "metadata": {},
   "outputs": [
    {
     "name": "stdout",
     "output_type": "stream",
     "text": [
      "<class 'pandas.core.frame.DataFrame'>\n",
      "Int64Index: 323 entries, 0 to 4628\n",
      "Data columns (total 11 columns):\n",
      " #   Column                Non-Null Count  Dtype  \n",
      "---  ------                --------------  -----  \n",
      " 0   patient_id            323 non-null    object \n",
      " 1   age                   323 non-null    int64  \n",
      " 2   psas_0_total          323 non-null    float64\n",
      " 3   lesions_0_pi_rads     323 non-null    int32  \n",
      " 4   lesions_0_gleason1.1  323 non-null    int32  \n",
      " 5   lesions_0_gleason2.1  323 non-null    int32  \n",
      " 6   ISUP                  323 non-null    int32  \n",
      " 7   TZ                    323 non-null    bool   \n",
      " 8   PZ                    323 non-null    bool   \n",
      " 9   CZ                    323 non-null    bool   \n",
      " 10  AS                    323 non-null    bool   \n",
      "dtypes: bool(4), float64(1), int32(4), int64(1), object(1)\n",
      "memory usage: 16.4+ KB\n"
     ]
    }
   ],
   "source": [
    "clinicas_filtradas.info()"
   ]
  },
  {
   "cell_type": "markdown",
   "id": "65e04af2",
   "metadata": {},
   "source": [
    "## Exportación df"
   ]
  },
  {
   "cell_type": "code",
   "execution_count": 13,
   "id": "8a8b3024",
   "metadata": {},
   "outputs": [],
   "source": [
    "path_radiomicas_filtradas = 'C:\\\\Users\\\\raque\\\\OneDrive\\\\Documents\\\\TFG\\\\Datos\\\\radiomicas_filtradas.xlsx'\n",
    "radiomicas_filtradas.to_excel(path_radiomicas_filtradas, index=False)\n",
    "\n",
    "path_clinicas_filtradas = 'C:\\\\Users\\\\raque\\\\OneDrive\\\\Documents\\\\TFG\\\\Datos\\\\clinicas_filtradas.xlsx'\n",
    "clinicas_filtradas.to_excel(path_clinicas_filtradas, index=False)"
   ]
  }
 ],
 "metadata": {
  "kernelspec": {
   "display_name": "Python 3 (ipykernel)",
   "language": "python",
   "name": "python3"
  },
  "language_info": {
   "codemirror_mode": {
    "name": "ipython",
    "version": 3
   },
   "file_extension": ".py",
   "mimetype": "text/x-python",
   "name": "python",
   "nbconvert_exporter": "python",
   "pygments_lexer": "ipython3",
   "version": "3.11.5"
  }
 },
 "nbformat": 4,
 "nbformat_minor": 5
}
